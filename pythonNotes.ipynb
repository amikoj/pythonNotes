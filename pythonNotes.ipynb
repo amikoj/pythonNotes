{
 "cells": [
  {
   "cell_type": "markdown",
   "metadata": {
    "collapsed": true
   },
   "source": [
    "## PythonNotes Project Instroducation"
   ]
  },
  {
   "cell_type": "markdown",
   "metadata": {},
   "source": [
    "This project is to record some practice code when learning and using Python.Every Folder has differenct direction of using."
   ]
  },
  {
   "cell_type": "markdown",
   "metadata": {},
   "source": [
    "So far,all the modules are listed below:\n",
    "\n",
    "-  doc\n",
    "\n",
    "This section is mainly used to record some learning knowledge of the recorded article.\n",
    "\n",
    "- exercises\n",
    "\n",
    "This section is mainly used to sort out each part of the knowledage points and demonstrated by example.\n",
    "\n",
    "- IO\n",
    "\n",
    "This section is mainly used to practice python knowledge of IO operations.\n",
    "\n",
    "- mathematics\n",
    "\n",
    "This section is mainly used to practice python Mathematic knowledge .\n",
    "\n",
    "- module\n",
    "\n",
    "This section is mainly used to practice python knowlege of module .\n",
    "\n",
    "- network\n",
    "\n",
    "This section is mainly used to pratice network-related operaions and understand the basic types of network operations.\n",
    "\n",
    "-  spider\n",
    "\n",
    "A simple web crawler practice get started."
   ]
  },
  {
   "cell_type": "code",
   "execution_count": null,
   "metadata": {},
   "outputs": [],
   "source": []
  },
  {
   "cell_type": "code",
   "execution_count": null,
   "metadata": {},
   "outputs": [],
   "source": []
  }
 ],
 "metadata": {
  "kernelspec": {
   "display_name": "Python 2",
   "language": "python",
   "name": "python2"
  },
  "language_info": {
   "codemirror_mode": {
    "name": "ipython",
    "version": 2
   },
   "file_extension": ".py",
   "mimetype": "text/x-python",
   "name": "python",
   "nbconvert_exporter": "python",
   "pygments_lexer": "ipython2",
   "version": "2.7.6"
  }
 },
 "nbformat": 4,
 "nbformat_minor": 0
}
